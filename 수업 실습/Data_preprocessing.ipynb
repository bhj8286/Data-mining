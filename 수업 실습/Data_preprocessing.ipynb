{
  "nbformat": 4,
  "nbformat_minor": 0,
  "metadata": {
    "colab": {
      "provenance": [],
      "authorship_tag": "ABX9TyPEW7AQFEk4+y1xq1EuWbG5",
      "include_colab_link": true
    },
    "kernelspec": {
      "name": "python3",
      "display_name": "Python 3"
    },
    "language_info": {
      "name": "python"
    }
  },
  "cells": [
    {
      "cell_type": "markdown",
      "metadata": {
        "id": "view-in-github",
        "colab_type": "text"
      },
      "source": [
        "<a href=\"https://colab.research.google.com/github/bhj8286/Data-mining/blob/main/%EC%88%98%EC%97%85%20%EC%8B%A4%EC%8A%B5/Data_preprocessing.ipynb\" target=\"_parent\"><img src=\"https://colab.research.google.com/assets/colab-badge.svg\" alt=\"Open In Colab\"/></a>"
      ]
    },
    {
      "cell_type": "code",
      "execution_count": 1,
      "metadata": {
        "colab": {
          "base_uri": "https://localhost:8080/"
        },
        "id": "qcEqLGRjawBZ",
        "outputId": "c8fc2717-47ab-4164-ea1a-007cc10693af"
      },
      "outputs": [
        {
          "output_type": "stream",
          "name": "stdout",
          "text": [
            "Requirement already satisfied: chardet in /usr/local/lib/python3.11/dist-packages (5.2.0)\n"
          ]
        }
      ],
      "source": [
        "! pip install chardet"
      ]
    },
    {
      "cell_type": "code",
      "source": [
        "# 구글드라이브 마운트\n",
        "from google.colab import drive\n",
        "drive.mount('/content/drive')\n",
        "\n",
        "# 작업 경로 변경\n",
        "%cd /content/drive/MyDrive/my/pydata2025-3-20/pydata2025-3-20\n",
        "\n",
        "!pwd # 변경 확인\n",
        "import pandas as pd\n",
        "# reading the data\n",
        "import numpy as np\n",
        "import chardet\n",
        "with open('vote.csv', 'rb') as f:\n",
        "  print(chardet.detect(f.read() ))"
      ],
      "metadata": {
        "colab": {
          "base_uri": "https://localhost:8080/"
        },
        "id": "tFTdiIEXa8gb",
        "outputId": "9261c250-3de9-442d-e8db-6f3e6c041681"
      },
      "execution_count": 3,
      "outputs": [
        {
          "output_type": "stream",
          "name": "stdout",
          "text": [
            "Mounted at /content/drive\n",
            "/content/drive/MyDrive/my/pydata2025-3-20/pydata2025-3-20\n",
            "/content/drive/MyDrive/my/pydata2025-3-20/pydata2025-3-20\n",
            "{'encoding': 'ascii', 'confidence': 1.0, 'language': ''}\n"
          ]
        }
      ]
    },
    {
      "cell_type": "code",
      "source": [],
      "metadata": {
        "id": "QyxiBjR4cVhC"
      },
      "execution_count": null,
      "outputs": []
    }
  ]
}